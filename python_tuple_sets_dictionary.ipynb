{
  "cells": [
    {
      "cell_type": "markdown",
      "metadata": {
        "id": "G_V0x7xzl7fL"
      },
      "source": [
        "### Creating Tuples"
      ]
    },
    {
      "cell_type": "code",
      "execution_count": null,
      "metadata": {
        "colab": {
          "base_uri": "https://localhost:8080/"
        },
        "id": "o5QfMirSl4-q",
        "outputId": "3035d546-7757-46a8-96d9-21ef3a61ef8f"
      },
      "outputs": [
        {
          "name": "stdout",
          "output_type": "stream",
          "text": [
            "()\n",
            "('hello',)\n",
            "<class 'tuple'>\n",
            "(1, 2, 3, 4)\n",
            "(1, 2.5, True, [1, 2, 3])\n",
            "(1, 2, 3, (4, 5))\n",
            "('h', 'e', 'l', 'l', 'o')\n"
          ]
        }
      ],
      "source": [
        "# empty\n",
        "t1 = ()\n",
        "print(t1)\n",
        "# create a tuple with a single item\n",
        "t2 = ('hello',)\n",
        "print(t2)\n",
        "print(type(t2))\n",
        "# homo\n",
        "t3 = (1,2,3,4)\n",
        "print(t3)\n",
        "# hetro\n",
        "t4 = (1,2.5,True,[1,2,3])\n",
        "print(t4)\n",
        "# tuple\n",
        "t5 = (1,2,3,(4,5))\n",
        "print(t5)\n",
        "# using type conversion\n",
        "t6 = tuple('hello')\n",
        "print(t6)"
      ]
    },
    {
      "cell_type": "markdown",
      "metadata": {
        "id": "hx9kH3ijmR98"
      },
      "source": [
        "### Accessing Items\n",
        "\n",
        "- Indexing\n",
        "- Slicing"
      ]
    },
    {
      "cell_type": "code",
      "execution_count": null,
      "metadata": {
        "colab": {
          "base_uri": "https://localhost:8080/"
        },
        "id": "rGHN05iVmWNO",
        "outputId": "1a50da8d-64e3-49b6-8627-84f555a6f558"
      },
      "outputs": [
        {
          "name": "stdout",
          "output_type": "stream",
          "text": [
            "(1, 2, 3, 4)\n",
            "1\n",
            "4\n"
          ]
        }
      ],
      "source": [
        "print(t3)\n",
        "print(t3[0])\n",
        "print(t3[-1])"
      ]
    },
    {
      "cell_type": "code",
      "execution_count": null,
      "metadata": {
        "colab": {
          "base_uri": "https://localhost:8080/"
        },
        "id": "PXfVX93qvRGC",
        "outputId": "3b5af2d6-c132-4e4d-fc1f-6ed775255409"
      },
      "outputs": [
        {
          "data": {
            "text/plain": [
              "4"
            ]
          },
          "execution_count": 28,
          "metadata": {},
          "output_type": "execute_result"
        }
      ],
      "source": [
        "t5[-1][0]"
      ]
    },
    {
      "cell_type": "markdown",
      "metadata": {
        "id": "oaLJvXrBmW63"
      },
      "source": [
        "### Editing items"
      ]
    },
    {
      "cell_type": "code",
      "execution_count": null,
      "metadata": {
        "colab": {
          "base_uri": "https://localhost:8080/",
          "height": 205
        },
        "id": "HyRQxHHNmcw8",
        "outputId": "0b88c8a6-7dcf-4048-9aaa-079ef656fc2a"
      },
      "outputs": [
        {
          "name": "stdout",
          "output_type": "stream",
          "text": [
            "(1, 2, 3, 4)\n"
          ]
        },
        {
          "ename": "TypeError",
          "evalue": "ignored",
          "output_type": "error",
          "traceback": [
            "\u001b[0;31m---------------------------------------------------------------------------\u001b[0m",
            "\u001b[0;31mTypeError\u001b[0m                                 Traceback (most recent call last)",
            "\u001b[0;32m<ipython-input-30-49d9e1416ccf>\u001b[0m in \u001b[0;36m<module>\u001b[0;34m\u001b[0m\n\u001b[1;32m      1\u001b[0m \u001b[0mprint\u001b[0m\u001b[0;34m(\u001b[0m\u001b[0mt3\u001b[0m\u001b[0;34m)\u001b[0m\u001b[0;34m\u001b[0m\u001b[0;34m\u001b[0m\u001b[0m\n\u001b[0;32m----> 2\u001b[0;31m \u001b[0mt3\u001b[0m\u001b[0;34m[\u001b[0m\u001b[0;36m0\u001b[0m\u001b[0;34m]\u001b[0m \u001b[0;34m=\u001b[0m \u001b[0;36m100\u001b[0m\u001b[0;34m\u001b[0m\u001b[0;34m\u001b[0m\u001b[0m\n\u001b[0m",
            "\u001b[0;31mTypeError\u001b[0m: 'tuple' object does not support item assignment"
          ]
        }
      ],
      "source": [
        "print(t3)\n",
        "t3[0] = 100\n",
        "# immutable just like strings"
      ]
    },
    {
      "cell_type": "markdown",
      "metadata": {
        "id": "UQpDLQFtmdbm"
      },
      "source": [
        "### Adding items"
      ]
    },
    {
      "cell_type": "code",
      "execution_count": null,
      "metadata": {
        "colab": {
          "base_uri": "https://localhost:8080/"
        },
        "id": "bHXYLnNSmezw",
        "outputId": "5c2fa2f4-3159-4f0f-da24-346f7f61b57a"
      },
      "outputs": [
        {
          "name": "stdout",
          "output_type": "stream",
          "text": [
            "(1, 2, 3, 4)\n"
          ]
        }
      ],
      "source": [
        "print(t3)\n",
        "# not possible"
      ]
    },
    {
      "cell_type": "markdown",
      "metadata": {
        "id": "8YRYCj9vmfl9"
      },
      "source": [
        "### Deleting items"
      ]
    },
    {
      "cell_type": "code",
      "execution_count": null,
      "metadata": {
        "colab": {
          "base_uri": "https://localhost:8080/",
          "height": 223
        },
        "id": "aYXjESAnmhFk",
        "outputId": "72300167-ce0b-4ceb-8887-a3aad974bdf6"
      },
      "outputs": [
        {
          "name": "stdout",
          "output_type": "stream",
          "text": [
            "(1, 2, 3, 4)\n"
          ]
        },
        {
          "ename": "NameError",
          "evalue": "ignored",
          "output_type": "error",
          "traceback": [
            "\u001b[0;31m---------------------------------------------------------------------------\u001b[0m",
            "\u001b[0;31mNameError\u001b[0m                                 Traceback (most recent call last)",
            "\u001b[0;32m<ipython-input-33-0a67b29ad777>\u001b[0m in \u001b[0;36m<module>\u001b[0;34m\u001b[0m\n\u001b[1;32m      1\u001b[0m \u001b[0mprint\u001b[0m\u001b[0;34m(\u001b[0m\u001b[0mt3\u001b[0m\u001b[0;34m)\u001b[0m\u001b[0;34m\u001b[0m\u001b[0;34m\u001b[0m\u001b[0m\n\u001b[1;32m      2\u001b[0m \u001b[0;32mdel\u001b[0m \u001b[0mt3\u001b[0m\u001b[0;34m\u001b[0m\u001b[0;34m\u001b[0m\u001b[0m\n\u001b[0;32m----> 3\u001b[0;31m \u001b[0mprint\u001b[0m\u001b[0;34m(\u001b[0m\u001b[0mt3\u001b[0m\u001b[0;34m)\u001b[0m\u001b[0;34m\u001b[0m\u001b[0;34m\u001b[0m\u001b[0m\n\u001b[0m",
            "\u001b[0;31mNameError\u001b[0m: name 't3' is not defined"
          ]
        }
      ],
      "source": [
        "print(t3)\n",
        "del t3\n",
        "print(t3)"
      ]
    },
    {
      "cell_type": "code",
      "execution_count": null,
      "metadata": {
        "colab": {
          "base_uri": "https://localhost:8080/"
        },
        "id": "81NlConQwvpg",
        "outputId": "600720df-946a-42ee-f26b-10b565dc0c18"
      },
      "outputs": [
        {
          "data": {
            "text/plain": [
              "(5, 4, 3)"
            ]
          },
          "execution_count": 37,
          "metadata": {},
          "output_type": "execute_result"
        }
      ],
      "source": [
        "t = (1,2,3,4,5)\n",
        "\n",
        "t[-1:-4:-1]"
      ]
    },
    {
      "cell_type": "code",
      "execution_count": null,
      "metadata": {
        "colab": {
          "base_uri": "https://localhost:8080/",
          "height": 205
        },
        "id": "uKalrU0swVb6",
        "outputId": "54026801-6f8a-4252-f2a2-a60080a99093"
      },
      "outputs": [
        {
          "name": "stdout",
          "output_type": "stream",
          "text": [
            "(1, 2, 3, (4, 5))\n"
          ]
        },
        {
          "ename": "TypeError",
          "evalue": "ignored",
          "output_type": "error",
          "traceback": [
            "\u001b[0;31m---------------------------------------------------------------------------\u001b[0m",
            "\u001b[0;31mTypeError\u001b[0m                                 Traceback (most recent call last)",
            "\u001b[0;32m<ipython-input-35-2b39d140e8ae>\u001b[0m in \u001b[0;36m<module>\u001b[0;34m\u001b[0m\n\u001b[1;32m      1\u001b[0m \u001b[0mprint\u001b[0m\u001b[0;34m(\u001b[0m\u001b[0mt5\u001b[0m\u001b[0;34m)\u001b[0m\u001b[0;34m\u001b[0m\u001b[0;34m\u001b[0m\u001b[0m\n\u001b[0;32m----> 2\u001b[0;31m \u001b[0;32mdel\u001b[0m \u001b[0mt5\u001b[0m\u001b[0;34m[\u001b[0m\u001b[0;34m-\u001b[0m\u001b[0;36m1\u001b[0m\u001b[0;34m]\u001b[0m\u001b[0;34m\u001b[0m\u001b[0;34m\u001b[0m\u001b[0m\n\u001b[0m",
            "\u001b[0;31mTypeError\u001b[0m: 'tuple' object doesn't support item deletion"
          ]
        }
      ],
      "source": [
        "print(t5)\n",
        "del t5[-1]"
      ]
    },
    {
      "cell_type": "markdown",
      "metadata": {
        "id": "VhxuX2KXmhs0"
      },
      "source": [
        "### Operations on Tuples"
      ]
    },
    {
      "cell_type": "code",
      "execution_count": null,
      "metadata": {
        "colab": {
          "base_uri": "https://localhost:8080/"
        },
        "id": "EKUS6wWEmj9o",
        "outputId": "9b1e75c9-8953-462e-c6f8-c29f9573d4df"
      },
      "outputs": [
        {
          "name": "stdout",
          "output_type": "stream",
          "text": [
            "(1, 2, 3, 4, 5, 6, 7, 8)\n",
            "(1, 2, 3, 4, 1, 2, 3, 4, 1, 2, 3, 4)\n",
            "1\n",
            "2\n",
            "3\n",
            "4\n"
          ]
        }
      ],
      "source": [
        "# + and *\n",
        "t1 = (1,2,3,4)\n",
        "t2 = (5,6,7,8)\n",
        "\n",
        "print(t1 + t2)\n",
        "\n",
        "print(t1*3)\n",
        "# membership\n",
        "1 in t1\n",
        "# iteration\n",
        "for i in t1:\n",
        "  print(i)"
      ]
    },
    {
      "cell_type": "markdown",
      "metadata": {
        "id": "N52xMYoPmkcZ"
      },
      "source": [
        "### Tuple Functions"
      ]
    },
    {
      "cell_type": "code",
      "execution_count": null,
      "metadata": {
        "colab": {
          "base_uri": "https://localhost:8080/"
        },
        "id": "Qwevex2Gmmm3",
        "outputId": "738058e1-5b50-46c8-fb80-74b1ac0625d5"
      },
      "outputs": [
        {
          "data": {
            "text/plain": [
              "[4, 3, 2, 1]"
            ]
          },
          "execution_count": 47,
          "metadata": {},
          "output_type": "execute_result"
        }
      ],
      "source": [
        "# len/sum/min/max/sorted\n",
        "t = (1,2,3,4)\n",
        "len(t)\n",
        "\n",
        "sum(t)\n",
        "\n",
        "min(t)\n",
        "\n",
        "max(t)\n",
        "\n",
        "sorted(t,reverse=True)"
      ]
    },
    {
      "cell_type": "code",
      "execution_count": null,
      "metadata": {
        "colab": {
          "base_uri": "https://localhost:8080/"
        },
        "id": "u7SKgEcqmuQC",
        "outputId": "091a77b0-be5d-4dd6-f945-5a41572e44ee"
      },
      "outputs": [
        {
          "data": {
            "text/plain": [
              "0"
            ]
          },
          "execution_count": 49,
          "metadata": {},
          "output_type": "execute_result"
        }
      ],
      "source": [
        "# count\n",
        "\n",
        "t = (1,2,3,4,5)\n",
        "\n",
        "t.count(50)"
      ]
    },
    {
      "cell_type": "code",
      "execution_count": null,
      "metadata": {
        "colab": {
          "base_uri": "https://localhost:8080/",
          "height": 187
        },
        "id": "4RfqeoXYnBR8",
        "outputId": "364f9a13-bf4b-4c4a-e68f-59475f4bfcb1"
      },
      "outputs": [
        {
          "ename": "ValueError",
          "evalue": "ignored",
          "output_type": "error",
          "traceback": [
            "\u001b[0;31m---------------------------------------------------------------------------\u001b[0m",
            "\u001b[0;31mValueError\u001b[0m                                Traceback (most recent call last)",
            "\u001b[0;32m<ipython-input-51-cae2b6ba49a8>\u001b[0m in \u001b[0;36m<module>\u001b[0;34m\u001b[0m\n\u001b[1;32m      1\u001b[0m \u001b[0;31m# index\u001b[0m\u001b[0;34m\u001b[0m\u001b[0;34m\u001b[0m\u001b[0;34m\u001b[0m\u001b[0m\n\u001b[0;32m----> 2\u001b[0;31m \u001b[0mt\u001b[0m\u001b[0;34m.\u001b[0m\u001b[0mindex\u001b[0m\u001b[0;34m(\u001b[0m\u001b[0;36m50\u001b[0m\u001b[0;34m)\u001b[0m\u001b[0;34m\u001b[0m\u001b[0;34m\u001b[0m\u001b[0m\n\u001b[0m",
            "\u001b[0;31mValueError\u001b[0m: tuple.index(x): x not in tuple"
          ]
        }
      ],
      "source": [
        "# index\n",
        "t.index(50)"
      ]
    },
    {
      "cell_type": "markdown",
      "metadata": {
        "id": "PobcLOXFnNGe"
      },
      "source": [
        "### Difference between Lists and Tuples\n",
        "\n",
        "- Syntax\n",
        "- Mutability\n",
        "- Speed\n",
        "- Memory\n",
        "- Built in functionality\n",
        "- Error prone\n",
        "- Usability\n"
      ]
    },
    {
      "cell_type": "code",
      "execution_count": null,
      "metadata": {
        "colab": {
          "base_uri": "https://localhost:8080/"
        },
        "id": "-_A7Zfp5fVQy",
        "outputId": "84aad301-6f5c-43e5-9460-3f56334286ee"
      },
      "outputs": [
        {
          "name": "stdout",
          "output_type": "stream",
          "text": [
            "List time 9.853569507598877\n",
            "Tuple time 8.347511053085327\n"
          ]
        }
      ],
      "source": [
        "import time\n",
        "\n",
        "L = list(range(100000000))\n",
        "T = tuple(range(100000000))\n",
        "\n",
        "start = time.time()\n",
        "for i in L:\n",
        "  i*5\n",
        "print('List time',time.time()-start)\n",
        "\n",
        "start = time.time()\n",
        "for i in T:\n",
        "  i*5\n",
        "print('Tuple time',time.time()-start)"
      ]
    },
    {
      "cell_type": "code",
      "execution_count": null,
      "metadata": {
        "colab": {
          "base_uri": "https://localhost:8080/"
        },
        "id": "WMZ3zpKXgNzo",
        "outputId": "ec25c72e-db73-4118-c314-04e9049e3720"
      },
      "outputs": [
        {
          "name": "stdout",
          "output_type": "stream",
          "text": [
            "List size 9120\n",
            "Tuple size 8056\n"
          ]
        }
      ],
      "source": [
        "import sys\n",
        "\n",
        "L = list(range(1000))\n",
        "T = tuple(range(1000))\n",
        "\n",
        "print('List size',sys.getsizeof(L))\n",
        "print('Tuple size',sys.getsizeof(T))\n"
      ]
    },
    {
      "cell_type": "code",
      "execution_count": null,
      "metadata": {
        "colab": {
          "base_uri": "https://localhost:8080/"
        },
        "id": "07cZ1sqUzV8B",
        "outputId": "16dbf599-4782-4473-f922-85d972d6edeb"
      },
      "outputs": [
        {
          "name": "stdout",
          "output_type": "stream",
          "text": [
            "[1, 2, 3, 4]\n",
            "[1, 2, 3, 4]\n"
          ]
        }
      ],
      "source": [
        "a = [1,2,3]\n",
        "b = a\n",
        "\n",
        "a.append(4)\n",
        "print(a)\n",
        "print(b)"
      ]
    },
    {
      "cell_type": "code",
      "execution_count": null,
      "metadata": {
        "colab": {
          "base_uri": "https://localhost:8080/"
        },
        "id": "KNsxrRz9zi-p",
        "outputId": "df2306c5-afca-4e06-d939-5fb281872a38"
      },
      "outputs": [
        {
          "name": "stdout",
          "output_type": "stream",
          "text": [
            "(1, 2, 3, 4)\n",
            "(1, 2, 3)\n"
          ]
        }
      ],
      "source": [
        "a = (1,2,3)\n",
        "b = a\n",
        "\n",
        "a = a + (4,)\n",
        "print(a)\n",
        "print(b)"
      ]
    },
    {
      "cell_type": "markdown",
      "metadata": {
        "id": "faJ8lUIcfN6J"
      },
      "source": [
        "### Why use tuple?"
      ]
    },
    {
      "cell_type": "markdown",
      "metadata": {
        "id": "2tXh2rFfo9Xp"
      },
      "source": [
        "### Special Syntax"
      ]
    },
    {
      "cell_type": "code",
      "execution_count": null,
      "metadata": {
        "colab": {
          "base_uri": "https://localhost:8080/"
        },
        "id": "MlDNb_KsnB-b",
        "outputId": "49934cdf-cf35-44a4-c1ba-40b0bf6ba031"
      },
      "outputs": [
        {
          "name": "stdout",
          "output_type": "stream",
          "text": [
            "1 2 3\n"
          ]
        }
      ],
      "source": [
        "# tuple unpacking\n",
        "a,b,c = (1,2,3)\n",
        "print(a,b,c)"
      ]
    },
    {
      "cell_type": "code",
      "execution_count": null,
      "metadata": {
        "colab": {
          "base_uri": "https://localhost:8080/",
          "height": 187
        },
        "id": "bxz2_lX1j4SL",
        "outputId": "0f92225c-f0f0-4c57-c9ed-aa9f13e492e3"
      },
      "outputs": [
        {
          "ename": "ValueError",
          "evalue": "ignored",
          "output_type": "error",
          "traceback": [
            "\u001b[0;31m---------------------------------------------------------------------------\u001b[0m",
            "\u001b[0;31mValueError\u001b[0m                                Traceback (most recent call last)",
            "\u001b[0;32m<ipython-input-55-22f327f11d4b>\u001b[0m in \u001b[0;36m<module>\u001b[0;34m\u001b[0m\n\u001b[0;32m----> 1\u001b[0;31m \u001b[0ma\u001b[0m\u001b[0;34m,\u001b[0m\u001b[0mb\u001b[0m \u001b[0;34m=\u001b[0m \u001b[0;34m(\u001b[0m\u001b[0;36m1\u001b[0m\u001b[0;34m,\u001b[0m\u001b[0;36m2\u001b[0m\u001b[0;34m,\u001b[0m\u001b[0;36m3\u001b[0m\u001b[0;34m)\u001b[0m\u001b[0;34m\u001b[0m\u001b[0;34m\u001b[0m\u001b[0m\n\u001b[0m\u001b[1;32m      2\u001b[0m \u001b[0mprint\u001b[0m\u001b[0;34m(\u001b[0m\u001b[0ma\u001b[0m\u001b[0;34m,\u001b[0m\u001b[0mb\u001b[0m\u001b[0;34m)\u001b[0m\u001b[0;34m\u001b[0m\u001b[0;34m\u001b[0m\u001b[0m\n",
            "\u001b[0;31mValueError\u001b[0m: too many values to unpack (expected 2)"
          ]
        }
      ],
      "source": [
        "a,b = (1,2,3)\n",
        "print(a,b)"
      ]
    },
    {
      "cell_type": "code",
      "execution_count": null,
      "metadata": {
        "colab": {
          "base_uri": "https://localhost:8080/"
        },
        "id": "Crc3WUQwjp_B",
        "outputId": "33065db1-486b-46bc-b4ce-5efa9df70f93"
      },
      "outputs": [
        {
          "name": "stdout",
          "output_type": "stream",
          "text": [
            "2 1\n"
          ]
        }
      ],
      "source": [
        "a = 1\n",
        "b = 2\n",
        "a,b = b,a\n",
        "\n",
        "print(a,b)"
      ]
    },
    {
      "cell_type": "code",
      "execution_count": null,
      "metadata": {
        "colab": {
          "base_uri": "https://localhost:8080/"
        },
        "id": "8QlfVsrCjvh3",
        "outputId": "0724b939-8ad5-43aa-aede-3b8d5c8531a9"
      },
      "outputs": [
        {
          "name": "stdout",
          "output_type": "stream",
          "text": [
            "1 2\n",
            "[3, 4]\n"
          ]
        }
      ],
      "source": [
        "a,b,*others = (1,2,3,4)\n",
        "print(a,b)\n",
        "print(others)"
      ]
    },
    {
      "cell_type": "code",
      "execution_count": null,
      "metadata": {
        "colab": {
          "base_uri": "https://localhost:8080/"
        },
        "id": "6RPuluylqgmE",
        "outputId": "9d711f7d-f413-4979-8c05-44c87484aeb9"
      },
      "outputs": [
        {
          "data": {
            "text/plain": [
              "((1, 5), (2, 6), (3, 7), (4, 8))"
            ]
          },
          "execution_count": 59,
          "metadata": {},
          "output_type": "execute_result"
        }
      ],
      "source": [
        "# zipping tuples\n",
        "a = (1,2,3,4)\n",
        "b = (5,6,7,8)\n",
        "\n",
        "tuple(zip(a,b))"
      ]
    },
    {
      "cell_type": "markdown",
      "metadata": {
        "id": "wZfWh6bstK70"
      },
      "source": [
        "# Sets\n",
        "\n",
        "A set is an unordered collection of items. Every set element is unique (no duplicates) and must be immutable (cannot be changed).\n",
        "\n",
        "However, a set itself is mutable. We can add or remove items from it.\n",
        "\n",
        "Sets can also be used to perform mathematical set operations like union, intersection, symmetric difference, etc.\n",
        "\n",
        "Characterstics:\n",
        "- Unordered\n",
        "- Mutable\n",
        "- No Duplicates\n",
        "- Can't contain mutable data types"
      ]
    },
    {
      "cell_type": "markdown",
      "metadata": {
        "id": "cr172PHQy2sD"
      },
      "source": [
        "### Creating Sets"
      ]
    },
    {
      "cell_type": "code",
      "execution_count": null,
      "metadata": {
        "colab": {
          "base_uri": "https://localhost:8080/",
          "height": 330
        },
        "id": "0UBYWcTYvmug",
        "outputId": "6758704b-554f-44dd-ad89-06afa5b3b3cc"
      },
      "outputs": [
        {
          "name": "stdout",
          "output_type": "stream",
          "text": [
            "set()\n",
            "<class 'set'>\n",
            "{1, 2, 3}\n",
            "{1, 4.5, (1, 2, 3), 'hello'}\n",
            "{1, 2, 3}\n",
            "{1, 2, 3}\n"
          ]
        },
        {
          "ename": "TypeError",
          "evalue": "ignored",
          "output_type": "error",
          "traceback": [
            "\u001b[0;31m---------------------------------------------------------------------------\u001b[0m",
            "\u001b[0;31mTypeError\u001b[0m                                 Traceback (most recent call last)",
            "\u001b[0;32m<ipython-input-71-ab3c7dde6aed>\u001b[0m in \u001b[0;36m<module>\u001b[0;34m\u001b[0m\n\u001b[1;32m     19\u001b[0m \u001b[0mprint\u001b[0m\u001b[0;34m(\u001b[0m\u001b[0ms5\u001b[0m\u001b[0;34m)\u001b[0m\u001b[0;34m\u001b[0m\u001b[0;34m\u001b[0m\u001b[0m\n\u001b[1;32m     20\u001b[0m \u001b[0;31m# set can't have mutable items\u001b[0m\u001b[0;34m\u001b[0m\u001b[0;34m\u001b[0m\u001b[0;34m\u001b[0m\u001b[0m\n\u001b[0;32m---> 21\u001b[0;31m \u001b[0ms6\u001b[0m \u001b[0;34m=\u001b[0m \u001b[0;34m{\u001b[0m\u001b[0;36m1\u001b[0m\u001b[0;34m,\u001b[0m\u001b[0;36m2\u001b[0m\u001b[0;34m,\u001b[0m\u001b[0;34m[\u001b[0m\u001b[0;36m3\u001b[0m\u001b[0;34m,\u001b[0m\u001b[0;36m4\u001b[0m\u001b[0;34m]\u001b[0m\u001b[0;34m}\u001b[0m\u001b[0;34m\u001b[0m\u001b[0;34m\u001b[0m\u001b[0m\n\u001b[0m\u001b[1;32m     22\u001b[0m \u001b[0mprint\u001b[0m\u001b[0;34m(\u001b[0m\u001b[0ms6\u001b[0m\u001b[0;34m)\u001b[0m\u001b[0;34m\u001b[0m\u001b[0;34m\u001b[0m\u001b[0m\n",
            "\u001b[0;31mTypeError\u001b[0m: unhashable type: 'list'"
          ]
        }
      ],
      "source": [
        "# empty\n",
        "s = set()\n",
        "print(s)\n",
        "print(type(s))\n",
        "# 1D and 2D\n",
        "s1 = {1,2,3}\n",
        "print(s1)\n",
        "#s2 = {1,2,3,{4,5}}\n",
        "#print(s2)\n",
        "# homo and hetro\n",
        "s3 = {1,'hello',4.5,(1,2,3)}\n",
        "print(s3)\n",
        "# using type conversion\n",
        "\n",
        "s4 = set([1,2,3])\n",
        "print(s4)\n",
        "# duplicates not allowed\n",
        "s5 = {1,1,2,2,3,3}\n",
        "print(s5)\n",
        "# set can't have mutable items\n",
        "s6 = {1,2,[3,4]}\n",
        "print(s6)"
      ]
    },
    {
      "cell_type": "code",
      "execution_count": null,
      "metadata": {
        "colab": {
          "base_uri": "https://localhost:8080/"
        },
        "id": "VxnwBigY4PsS",
        "outputId": "f999b3c4-549d-4643-8a9e-403d6134c6f1"
      },
      "outputs": [
        {
          "name": "stdout",
          "output_type": "stream",
          "text": [
            "True\n"
          ]
        }
      ],
      "source": [
        "s1 = {1,2,3}\n",
        "s2 = {3,2,1}\n",
        "\n",
        "print(s1 == s2)"
      ]
    },
    {
      "cell_type": "code",
      "execution_count": null,
      "metadata": {
        "id": "2APtPRBm4P2z"
      },
      "outputs": [],
      "source": []
    },
    {
      "cell_type": "markdown",
      "metadata": {
        "id": "N4XE7Jdcy6I6"
      },
      "source": [
        "### Accessing Items"
      ]
    },
    {
      "cell_type": "code",
      "execution_count": null,
      "metadata": {
        "colab": {
          "base_uri": "https://localhost:8080/",
          "height": 187
        },
        "id": "1FTPU90-y8Vm",
        "outputId": "e27c181e-135c-48cc-8d40-2c80a00e90b2"
      },
      "outputs": [
        {
          "ename": "TypeError",
          "evalue": "ignored",
          "output_type": "error",
          "traceback": [
            "\u001b[0;31m---------------------------------------------------------------------------\u001b[0m",
            "\u001b[0;31mTypeError\u001b[0m                                 Traceback (most recent call last)",
            "\u001b[0;32m<ipython-input-75-4c49b6b6050d>\u001b[0m in \u001b[0;36m<module>\u001b[0;34m\u001b[0m\n\u001b[1;32m      1\u001b[0m \u001b[0ms1\u001b[0m \u001b[0;34m=\u001b[0m \u001b[0;34m{\u001b[0m\u001b[0;36m1\u001b[0m\u001b[0;34m,\u001b[0m\u001b[0;36m2\u001b[0m\u001b[0;34m,\u001b[0m\u001b[0;36m3\u001b[0m\u001b[0;34m,\u001b[0m\u001b[0;36m4\u001b[0m\u001b[0;34m}\u001b[0m\u001b[0;34m\u001b[0m\u001b[0;34m\u001b[0m\u001b[0m\n\u001b[0;32m----> 2\u001b[0;31m \u001b[0ms1\u001b[0m\u001b[0;34m[\u001b[0m\u001b[0;36m0\u001b[0m\u001b[0;34m:\u001b[0m\u001b[0;36m3\u001b[0m\u001b[0;34m]\u001b[0m\u001b[0;34m\u001b[0m\u001b[0;34m\u001b[0m\u001b[0m\n\u001b[0m",
            "\u001b[0;31mTypeError\u001b[0m: 'set' object is not subscriptable"
          ]
        }
      ],
      "source": [
        "s1 = {1,2,3,4}\n",
        "s1[0:3]"
      ]
    },
    {
      "cell_type": "markdown",
      "metadata": {
        "id": "04eW94rFy9ce"
      },
      "source": [
        "### Editing Items"
      ]
    },
    {
      "cell_type": "code",
      "execution_count": null,
      "metadata": {
        "colab": {
          "base_uri": "https://localhost:8080/",
          "height": 187
        },
        "id": "gPnAaZYvzLF2",
        "outputId": "cea8dcd7-f17e-492a-ebff-11c8d9153ec5"
      },
      "outputs": [
        {
          "ename": "TypeError",
          "evalue": "ignored",
          "output_type": "error",
          "traceback": [
            "\u001b[0;31m---------------------------------------------------------------------------\u001b[0m",
            "\u001b[0;31mTypeError\u001b[0m                                 Traceback (most recent call last)",
            "\u001b[0;32m<ipython-input-76-bd617ce25076>\u001b[0m in \u001b[0;36m<module>\u001b[0;34m\u001b[0m\n\u001b[1;32m      1\u001b[0m \u001b[0ms1\u001b[0m \u001b[0;34m=\u001b[0m \u001b[0;34m{\u001b[0m\u001b[0;36m1\u001b[0m\u001b[0;34m,\u001b[0m\u001b[0;36m2\u001b[0m\u001b[0;34m,\u001b[0m\u001b[0;36m3\u001b[0m\u001b[0;34m,\u001b[0m\u001b[0;36m4\u001b[0m\u001b[0;34m}\u001b[0m\u001b[0;34m\u001b[0m\u001b[0;34m\u001b[0m\u001b[0m\n\u001b[0;32m----> 2\u001b[0;31m \u001b[0ms1\u001b[0m\u001b[0;34m[\u001b[0m\u001b[0;36m0\u001b[0m\u001b[0;34m]\u001b[0m \u001b[0;34m=\u001b[0m \u001b[0;36m100\u001b[0m\u001b[0;34m\u001b[0m\u001b[0;34m\u001b[0m\u001b[0m\n\u001b[0m",
            "\u001b[0;31mTypeError\u001b[0m: 'set' object does not support item assignment"
          ]
        }
      ],
      "source": [
        "s1 = {1,2,3,4}\n",
        "s1[0] = 100"
      ]
    },
    {
      "cell_type": "markdown",
      "metadata": {
        "id": "5xsL5JF-zLkI"
      },
      "source": [
        "### Adding Items"
      ]
    },
    {
      "cell_type": "code",
      "execution_count": null,
      "metadata": {
        "colab": {
          "base_uri": "https://localhost:8080/"
        },
        "id": "qiRjVBv6zNnO",
        "outputId": "58dbc681-d0c2-48ed-8bc5-62e90b444d7a"
      },
      "outputs": [
        {
          "name": "stdout",
          "output_type": "stream",
          "text": [
            "{1, 2, 3, 4, 5, 6, 7}\n"
          ]
        }
      ],
      "source": [
        "S = {1,2,3,4}\n",
        "# add\n",
        "# S.add(5)\n",
        "# print(S)\n",
        "# update\n",
        "S.update([5,6,7])\n",
        "print(S)"
      ]
    },
    {
      "cell_type": "markdown",
      "metadata": {
        "id": "3cRiDI8CzOGL"
      },
      "source": [
        "### Deleting Items"
      ]
    },
    {
      "cell_type": "code",
      "execution_count": null,
      "metadata": {
        "colab": {
          "base_uri": "https://localhost:8080/"
        },
        "id": "IyIhIyqzzPT6",
        "outputId": "8e313ce8-a8f0-48bb-c5f0-57ddb436260a"
      },
      "outputs": [
        {
          "name": "stdout",
          "output_type": "stream",
          "text": [
            "set()\n"
          ]
        }
      ],
      "source": [
        "# del\n",
        "s = {1,2,3,4,5}\n",
        "# print(s)\n",
        "# del s[0]\n",
        "# print(s)\n",
        "# discard\n",
        "# s.discard(50)\n",
        "# print(s)\n",
        "# remove\n",
        "# s.remove(50)\n",
        "# print(s)\n",
        "# pop\n",
        "# s.pop()\n",
        "# clear\n",
        "s.clear()\n",
        "print(s)"
      ]
    },
    {
      "cell_type": "markdown",
      "metadata": {
        "id": "Cil9LKcszP09"
      },
      "source": [
        "### Set Operation"
      ]
    },
    {
      "cell_type": "code",
      "execution_count": null,
      "metadata": {
        "colab": {
          "base_uri": "https://localhost:8080/"
        },
        "id": "pC3f28V5zRNG",
        "outputId": "829c6a8d-6f1f-4725-bfe4-43a7385e5647"
      },
      "outputs": [
        {
          "name": "stdout",
          "output_type": "stream",
          "text": [
            "1\n",
            "2\n",
            "3\n",
            "4\n",
            "5\n"
          ]
        }
      ],
      "source": [
        "s1 = {1,2,3,4,5}\n",
        "s2 = {4,5,6,7,8}\n",
        "s1 | s2\n",
        "# Union(|)\n",
        "# Intersection(&)\n",
        "s1 & s2\n",
        "# Difference(-)\n",
        "s1 - s2\n",
        "s2 - s1\n",
        "# Symmetric Difference(^)\n",
        "s1 ^ s2\n",
        "# Membership Test\n",
        "1 not in s1\n",
        "# Iteration\n",
        "for i in s1:\n",
        "  print(i)"
      ]
    },
    {
      "cell_type": "markdown",
      "metadata": {
        "id": "DYP9VCyUzRy_"
      },
      "source": [
        "### Set Functions"
      ]
    },
    {
      "cell_type": "code",
      "execution_count": null,
      "metadata": {
        "colab": {
          "base_uri": "https://localhost:8080/"
        },
        "id": "pte3wLPM3tcz",
        "outputId": "c25bbd1a-b80b-4787-ab5f-20c51d65d3b0"
      },
      "outputs": [
        {
          "data": {
            "text/plain": [
              "[7, 5, 4, 3, 2, 1]"
            ]
          },
          "execution_count": 100,
          "metadata": {},
          "output_type": "execute_result"
        }
      ],
      "source": [
        "# len/sum/min/max/sorted\n",
        "s = {3,1,4,5,2,7}\n",
        "len(s)\n",
        "sum(s)\n",
        "min(s)\n",
        "max(s)\n",
        "sorted(s,reverse=True)"
      ]
    },
    {
      "cell_type": "code",
      "execution_count": null,
      "metadata": {
        "colab": {
          "base_uri": "https://localhost:8080/"
        },
        "id": "j8hpGYlF30aU",
        "outputId": "2033d6e6-89c3-4176-8e78-b8998409988e"
      },
      "outputs": [
        {
          "name": "stdout",
          "output_type": "stream",
          "text": [
            "{1, 2, 3, 4, 5, 6, 7, 8}\n",
            "{4, 5, 6, 7, 8}\n"
          ]
        }
      ],
      "source": [
        "# union/update\n",
        "s1 = {1,2,3,4,5}\n",
        "s2 = {4,5,6,7,8}\n",
        "\n",
        "# s1 | s2\n",
        "s1.union(s1)\n",
        "\n",
        "s1.update(s2)\n",
        "print(s1)\n",
        "print(s2)"
      ]
    },
    {
      "cell_type": "code",
      "execution_count": null,
      "metadata": {
        "colab": {
          "base_uri": "https://localhost:8080/"
        },
        "id": "oqLRlh2H4U9k",
        "outputId": "7f193542-90a7-448f-edb5-a12b41c418db"
      },
      "outputs": [
        {
          "name": "stdout",
          "output_type": "stream",
          "text": [
            "{4, 5}\n",
            "{4, 5, 6, 7, 8}\n"
          ]
        }
      ],
      "source": [
        "# intersection/intersection_update\n",
        "s1 = {1,2,3,4,5}\n",
        "s2 = {4,5,6,7,8}\n",
        "\n",
        "s1.intersection(s2)\n",
        "\n",
        "s1.intersection_update(s2)\n",
        "print(s1)\n",
        "print(s2)"
      ]
    },
    {
      "cell_type": "code",
      "execution_count": null,
      "metadata": {
        "colab": {
          "base_uri": "https://localhost:8080/"
        },
        "id": "eBMvn14b4Z5h",
        "outputId": "abe9a58a-8237-4d2e-a72b-ba14b0cc5468"
      },
      "outputs": [
        {
          "name": "stdout",
          "output_type": "stream",
          "text": [
            "{1, 2, 3}\n",
            "{4, 5, 6, 7, 8}\n"
          ]
        }
      ],
      "source": [
        "# difference/difference_update\n",
        "s1 = {1,2,3,4,5}\n",
        "s2 = {4,5,6,7,8}\n",
        "\n",
        "s1.difference(s2)\n",
        "\n",
        "s1.difference_update(s2)\n",
        "print(s1)\n",
        "print(s2)"
      ]
    },
    {
      "cell_type": "code",
      "execution_count": null,
      "metadata": {
        "colab": {
          "base_uri": "https://localhost:8080/"
        },
        "id": "RaJDBDkl4eum",
        "outputId": "16eb16c3-15c1-4cf0-a35e-63ad77b6cec8"
      },
      "outputs": [
        {
          "name": "stdout",
          "output_type": "stream",
          "text": [
            "{1, 2, 3, 6, 7, 8}\n",
            "{4, 5, 6, 7, 8}\n"
          ]
        }
      ],
      "source": [
        "# symmetric_difference/symmetric_difference_update\n",
        "s1 = {1,2,3,4,5}\n",
        "s2 = {4,5,6,7,8}\n",
        "\n",
        "s1.symmetric_difference(s2)\n",
        "\n",
        "s1.symmetric_difference_update(s2)\n",
        "print(s1)\n",
        "print(s2)"
      ]
    },
    {
      "cell_type": "code",
      "execution_count": null,
      "metadata": {
        "colab": {
          "base_uri": "https://localhost:8080/"
        },
        "id": "vCuiMdAH4mJv",
        "outputId": "a0933bf7-17b6-428e-ecc8-f73a4aef7e02"
      },
      "outputs": [
        {
          "data": {
            "text/plain": [
              "True"
            ]
          },
          "execution_count": 109,
          "metadata": {},
          "output_type": "execute_result"
        }
      ],
      "source": [
        "# isdisjoint/issubset/issuperset\n",
        "s1 = {1,2,3,4}\n",
        "s2 = {7,8,5,6}\n",
        "\n",
        "s1.isdisjoint(s2)"
      ]
    },
    {
      "cell_type": "code",
      "execution_count": null,
      "metadata": {
        "colab": {
          "base_uri": "https://localhost:8080/"
        },
        "id": "dUsEhC1O9MCg",
        "outputId": "fc919a16-888b-4096-9f7e-82c5e56ad99b"
      },
      "outputs": [
        {
          "data": {
            "text/plain": [
              "True"
            ]
          },
          "execution_count": 112,
          "metadata": {},
          "output_type": "execute_result"
        }
      ],
      "source": [
        "s1 = {1,2,3,4,5}\n",
        "s2 = {3,4,5}\n",
        "\n",
        "s1.issuperset(s2)"
      ]
    },
    {
      "cell_type": "code",
      "execution_count": null,
      "metadata": {
        "colab": {
          "base_uri": "https://localhost:8080/"
        },
        "id": "g66FpVYp4tfF",
        "outputId": "ea220c6b-065f-4069-b872-2a8a68bcc0e0"
      },
      "outputs": [
        {
          "name": "stdout",
          "output_type": "stream",
          "text": [
            "{1, 2, 3}\n",
            "{1, 2, 3}\n"
          ]
        }
      ],
      "source": [
        "# copy\n",
        "s1 = {1,2,3}\n",
        "s2 = s1.copy()\n",
        "\n",
        "print(s1)\n",
        "print(s2)"
      ]
    },
    {
      "cell_type": "markdown",
      "metadata": {
        "id": "CNkTGbL66HjH"
      },
      "source": [
        "### Frozenset\n",
        "Frozen set is just an immutable version of a Python set object"
      ]
    },
    {
      "cell_type": "code",
      "execution_count": null,
      "metadata": {
        "colab": {
          "base_uri": "https://localhost:8080/"
        },
        "id": "Y5tjnO97JWZW",
        "outputId": "8cf9b1c2-a725-4101-abdf-05b1e32f39fa"
      },
      "outputs": [
        {
          "data": {
            "text/plain": [
              "frozenset({1, 2, 3, 4, 5})"
            ]
          },
          "execution_count": 115,
          "metadata": {},
          "output_type": "execute_result"
        }
      ],
      "source": [
        "# create frozenset\n",
        "fs1 = frozenset([1,2,3])\n",
        "fs2 = frozenset([3,4,5])\n",
        "\n",
        "fs1 | fs2"
      ]
    },
    {
      "cell_type": "code",
      "execution_count": null,
      "metadata": {
        "id": "BNGv2dqe6Jof"
      },
      "outputs": [],
      "source": [
        "# what works and what does not\n",
        "# works -> all read functions\n",
        "# does't work -> write operations"
      ]
    },
    {
      "cell_type": "code",
      "execution_count": null,
      "metadata": {
        "colab": {
          "base_uri": "https://localhost:8080/"
        },
        "id": "T4Bfg2d2JcAN",
        "outputId": "231ec701-7b17-4080-b438-8f02c744b547"
      },
      "outputs": [
        {
          "data": {
            "text/plain": [
              "frozenset({1, 2, frozenset({3, 4})})"
            ]
          },
          "execution_count": 117,
          "metadata": {},
          "output_type": "execute_result"
        }
      ],
      "source": [
        "# When to use\n",
        "# 2D sets\n",
        "fs = frozenset([1,2,frozenset([3,4])])\n",
        "fs"
      ]
    },
    {
      "cell_type": "markdown",
      "metadata": {
        "id": "KcTsyq3G6Qkr"
      },
      "source": [
        "### Set Comprehension"
      ]
    },
    {
      "cell_type": "code",
      "execution_count": null,
      "metadata": {
        "colab": {
          "base_uri": "https://localhost:8080/"
        },
        "id": "yvPmmWDm6SR8",
        "outputId": "c7aea44e-d2b7-4235-935d-da131a677297"
      },
      "outputs": [
        {
          "data": {
            "text/plain": [
              "{36, 49, 64, 81, 100}"
            ]
          },
          "execution_count": 120,
          "metadata": {},
          "output_type": "execute_result"
        }
      ],
      "source": [
        "# examples\n",
        "\n",
        "{i**2 for i in range(1,11) if i>5}"
      ]
    },
    {
      "cell_type": "code",
      "execution_count": null,
      "metadata": {
        "id": "1n9Oa0Ig_hVr"
      },
      "outputs": [],
      "source": []
    },
    {
      "cell_type": "markdown",
      "metadata": {
        "id": "RCm5fDCfKPx-"
      },
      "source": [
        "# Dictionary\n",
        "\n",
        "Dictionary in Python is a collection of keys values, used to store data values like a map, which, unlike other data types which hold only a single value as an element.\n",
        "\n",
        "In some languages it is known as map or assosiative arrays.\n",
        "\n",
        "dict = { 'name' : 'nitish' , 'age' : 33 , 'gender' : 'male' }\n",
        "\n",
        "Characterstics:\n",
        "\n",
        "- Mutable\n",
        "- Indexing has no meaning\n",
        "- keys can't be duplicated\n",
        "- keys can't be mutable items"
      ]
    },
    {
      "cell_type": "markdown",
      "metadata": {
        "id": "_Q7jlDV3MJ27"
      },
      "source": [
        "### Create Dictionary"
      ]
    },
    {
      "cell_type": "code",
      "execution_count": null,
      "metadata": {
        "colab": {
          "base_uri": "https://localhost:8080/"
        },
        "id": "XJhTncGKMI-q",
        "outputId": "a28cacd1-4786-4f40-b2e0-c97c66dfb354"
      },
      "outputs": [
        {
          "name": "stdout",
          "output_type": "stream",
          "text": [
            "{'name': 'nitish', (1, 2, 3): 2}\n"
          ]
        }
      ],
      "source": [
        "# empty dictionary\n",
        "d = {}\n",
        "d\n",
        "# 1D dictionary\n",
        "d1 = { 'name' : 'nitish' ,'gender' : 'male' }\n",
        "d1\n",
        "# with mixed keys\n",
        "d2 = {(1,2,3):1,'hello':'world'}\n",
        "d2\n",
        "# 2D dictionary -> JSON\n",
        "s = {\n",
        "    'name':'nitish',\n",
        "     'college':'bit',\n",
        "     'sem':4,\n",
        "     'subjects':{\n",
        "         'dsa':50,\n",
        "         'maths':67,\n",
        "         'english':34\n",
        "     }\n",
        "}\n",
        "s\n",
        "# using sequence and dict function\n",
        "d4 = dict([('name','nitish'),('age',32),(3,3)])\n",
        "d4\n",
        "# duplicate keys\n",
        "d5 = {'name':'nitish','name':'rahul'}\n",
        "d5\n",
        "# mutable items as keys\n",
        "d6 = {'name':'nitish',(1,2,3):2}\n",
        "print(d6)"
      ]
    },
    {
      "cell_type": "markdown",
      "metadata": {
        "id": "VtB-Bu1aNVyq"
      },
      "source": [
        "### Accessing items"
      ]
    },
    {
      "cell_type": "code",
      "execution_count": null,
      "metadata": {
        "colab": {
          "base_uri": "https://localhost:8080/"
        },
        "id": "D3uTSjsJJ9rM",
        "outputId": "f3009629-7652-409e-a873-7e3039c170d1"
      },
      "outputs": [
        {
          "data": {
            "text/plain": [
              "67"
            ]
          },
          "execution_count": 146,
          "metadata": {},
          "output_type": "execute_result"
        }
      ],
      "source": [
        "my_dict = {'name': 'Jack', 'age': 26}\n",
        "# []\n",
        "my_dict['age']\n",
        "# get\n",
        "my_dict.get('age')\n",
        "\n",
        "s['subjects']['maths']"
      ]
    },
    {
      "cell_type": "markdown",
      "metadata": {
        "id": "MOwj3gUfOLCM"
      },
      "source": [
        "### Adding key-value pair"
      ]
    },
    {
      "cell_type": "code",
      "execution_count": null,
      "metadata": {
        "colab": {
          "base_uri": "https://localhost:8080/"
        },
        "id": "N-pawGZ7Nall",
        "outputId": "6573b1c8-1701-4ff2-949b-c78b235cbe14"
      },
      "outputs": [
        {
          "data": {
            "text/plain": [
              "{'name': 'nitish',\n",
              " 'college': 'bit',\n",
              " 'sem': 4,\n",
              " 'subjects': {'dsa': 50, 'maths': 67, 'english': 34, 'ds': 75}}"
            ]
          },
          "execution_count": 148,
          "metadata": {},
          "output_type": "execute_result"
        }
      ],
      "source": [
        "d4['gender'] = 'male'\n",
        "d4\n",
        "d4['weight'] = 72\n",
        "d4\n",
        "\n",
        "s['subjects']['ds'] = 75\n",
        "s"
      ]
    },
    {
      "cell_type": "markdown",
      "metadata": {
        "id": "RWwGj1QnOOyr"
      },
      "source": [
        "### Remove key-value pair"
      ]
    },
    {
      "cell_type": "code",
      "execution_count": null,
      "metadata": {
        "colab": {
          "base_uri": "https://localhost:8080/"
        },
        "id": "Muy7dBy8OSRX",
        "outputId": "82635815-f263-4f32-978a-0d869e18349a"
      },
      "outputs": [
        {
          "name": "stdout",
          "output_type": "stream",
          "text": [
            "{}\n"
          ]
        },
        {
          "data": {
            "text/plain": [
              "{'name': 'nitish',\n",
              " 'college': 'bit',\n",
              " 'sem': 4,\n",
              " 'subjects': {'dsa': 50, 'english': 34, 'ds': 75}}"
            ]
          },
          "execution_count": 150,
          "metadata": {},
          "output_type": "execute_result"
        }
      ],
      "source": [
        "d = {'name': 'nitish', 'age': 32, 3: 3, 'gender': 'male', 'weight': 72}\n",
        "# pop\n",
        "#d.pop(3)\n",
        "#print(d)\n",
        "# popitem\n",
        "#d.popitem()\n",
        "# d.popitem()\n",
        "# print(d)\n",
        "# del\n",
        "#del d['name']\n",
        "#print(d)\n",
        "# clear\n",
        "d.clear()\n",
        "print(d)\n",
        "\n",
        "del s['subjects']['maths']\n",
        "s"
      ]
    },
    {
      "cell_type": "markdown",
      "metadata": {
        "id": "89XhL1HOObqh"
      },
      "source": [
        "### Editing key-value pair"
      ]
    },
    {
      "cell_type": "code",
      "execution_count": null,
      "metadata": {
        "colab": {
          "base_uri": "https://localhost:8080/"
        },
        "id": "inQRQdBzOart",
        "outputId": "0c228b1c-2b40-494f-a836-c5e9e261fb95"
      },
      "outputs": [
        {
          "data": {
            "text/plain": [
              "{'name': 'nitish',\n",
              " 'college': 'bit',\n",
              " 'sem': 5,\n",
              " 'subjects': {'dsa': 80, 'english': 34, 'ds': 75}}"
            ]
          },
          "execution_count": 153,
          "metadata": {},
          "output_type": "execute_result"
        }
      ],
      "source": [
        "s['subjects']['dsa'] = 80\n",
        "s"
      ]
    },
    {
      "cell_type": "markdown",
      "metadata": {
        "id": "Y8IxFZtDOuXJ"
      },
      "source": [
        "### Dictionary Operations\n",
        "\n",
        "- Membership\n",
        "- Iteration"
      ]
    },
    {
      "cell_type": "code",
      "execution_count": null,
      "metadata": {
        "colab": {
          "base_uri": "https://localhost:8080/"
        },
        "id": "x9EEF5SJPY__",
        "outputId": "5953f6b4-2fdb-4e97-a5f1-b6d1358bcfa7"
      },
      "outputs": [
        {
          "name": "stdout",
          "output_type": "stream",
          "text": [
            "{'name': 'nitish', 'college': 'bit', 'sem': 5, 'subjects': {'dsa': 80, 'english': 34, 'ds': 75}}\n"
          ]
        },
        {
          "data": {
            "text/plain": [
              "True"
            ]
          },
          "execution_count": 156,
          "metadata": {},
          "output_type": "execute_result"
        }
      ],
      "source": [
        "print(s)\n",
        "\n",
        "'name' in s"
      ]
    },
    {
      "cell_type": "code",
      "execution_count": null,
      "metadata": {
        "colab": {
          "base_uri": "https://localhost:8080/"
        },
        "id": "GFjUam63Ewmy",
        "outputId": "6833bf3d-cc32-4aa0-9d6b-98df6252bc25"
      },
      "outputs": [
        {
          "name": "stdout",
          "output_type": "stream",
          "text": [
            "name nitish\n",
            "gender male\n",
            "age 33\n"
          ]
        }
      ],
      "source": [
        "d = {'name':'nitish','gender':'male','age':33}\n",
        "\n",
        "for i in d:\n",
        "  print(i,d[i])"
      ]
    },
    {
      "cell_type": "markdown",
      "metadata": {
        "id": "BoCoYK3aPeaz"
      },
      "source": [
        "### Dictionary Functions"
      ]
    },
    {
      "cell_type": "code",
      "execution_count": null,
      "metadata": {
        "colab": {
          "base_uri": "https://localhost:8080/",
          "height": 53
        },
        "id": "qNQRKD_HPhEO",
        "outputId": "f828de9c-b454-4b70-d9ff-cc341837387d"
      },
      "outputs": [
        {
          "name": "stdout",
          "output_type": "stream",
          "text": [
            "{'name': 'nitish', 'gender': 'male', 'age': 33}\n"
          ]
        },
        {
          "data": {
            "application/vnd.google.colaboratory.intrinsic+json": {
              "type": "string"
            },
            "text/plain": [
              "'name'"
            ]
          },
          "execution_count": 165,
          "metadata": {},
          "output_type": "execute_result"
        }
      ],
      "source": [
        "# len/sorted\n",
        "len(d)\n",
        "print(d)\n",
        "sorted(d,reverse=True)\n",
        "max(d)"
      ]
    },
    {
      "cell_type": "code",
      "execution_count": null,
      "metadata": {
        "colab": {
          "base_uri": "https://localhost:8080/"
        },
        "id": "jPaJOiIuPi2y",
        "outputId": "5aee06f3-4aa1-4aad-a821-3679e97def16"
      },
      "outputs": [
        {
          "name": "stdout",
          "output_type": "stream",
          "text": [
            "{'name': 'nitish', 'gender': 'male', 'age': 33}\n",
            "dict_items([('name', 'nitish'), ('gender', 'male'), ('age', 33)])\n",
            "dict_keys(['name', 'gender', 'age'])\n",
            "dict_values(['nitish', 'male', 33])\n"
          ]
        }
      ],
      "source": [
        "# items/keys/values\n",
        "print(d)\n",
        "\n",
        "print(d.items())\n",
        "print(d.keys())\n",
        "print(d.values())"
      ]
    },
    {
      "cell_type": "code",
      "execution_count": null,
      "metadata": {
        "colab": {
          "base_uri": "https://localhost:8080/"
        },
        "id": "_U9eHegwQdUQ",
        "outputId": "ff388603-6b32-4929-bd97-5e2f66d409d6"
      },
      "outputs": [
        {
          "name": "stdout",
          "output_type": "stream",
          "text": [
            "{1: 2, 3: 4, 4: 7, 6: 8}\n"
          ]
        }
      ],
      "source": [
        "# update\n",
        "d1 = {1:2,3:4,4:5}\n",
        "d2 = {4:7,6:8}\n",
        "\n",
        "d1.update(d2)\n",
        "print(d1)"
      ]
    },
    {
      "cell_type": "code",
      "execution_count": null,
      "metadata": {
        "colab": {
          "base_uri": "https://localhost:8080/"
        },
        "id": "WJU0PdkMPlI-",
        "outputId": "1f7f09c4-fccd-46b9-a45c-eb7f84ac2fdf"
      },
      "outputs": [
        {
          "data": {
            "text/plain": [
              "{1: 1, 2: 4, 3: 9, 4: 16, 5: 25, 6: 36, 7: 49, 8: 64, 9: 81, 10: 100}"
            ]
          },
          "execution_count": 172,
          "metadata": {},
          "output_type": "execute_result"
        }
      ],
      "source": [
        "# print 1st 10 numbers and their squares\n",
        "{i:i**2 for i in range(1,11)}"
      ]
    },
    {
      "cell_type": "code",
      "execution_count": null,
      "metadata": {
        "colab": {
          "base_uri": "https://localhost:8080/"
        },
        "id": "DTkWYdjJGwJA",
        "outputId": "66f3c7bf-c4e2-4272-b9fa-a686d5c8ef8d"
      },
      "outputs": [
        {
          "name": "stdout",
          "output_type": "stream",
          "text": [
            "dict_items([('delhi', 1000), ('mumbai', 2000), ('bangalore', 3000)])\n"
          ]
        }
      ],
      "source": [
        "distances = {'delhi':1000,'mumbai':2000,'bangalore':3000}\n",
        "print(distances.items())"
      ]
    },
    {
      "cell_type": "code",
      "execution_count": null,
      "metadata": {
        "colab": {
          "base_uri": "https://localhost:8080/"
        },
        "id": "9xxl81NfSMhp",
        "outputId": "ab8cd682-1461-4ef3-ce88-55fc327ad21e"
      },
      "outputs": [
        {
          "data": {
            "text/plain": [
              "{'delhi': 620.0, 'mumbai': 1240.0, 'bangalore': 1860.0}"
            ]
          },
          "execution_count": 175,
          "metadata": {},
          "output_type": "execute_result"
        }
      ],
      "source": [
        "# using existing dict\n",
        "distances = {'delhi':1000,'mumbai':2000,'bangalore':3000}\n",
        "{key:value*0.62 for (key,value) in distances.items()}"
      ]
    },
    {
      "cell_type": "code",
      "execution_count": null,
      "metadata": {
        "colab": {
          "base_uri": "https://localhost:8080/"
        },
        "id": "Oka8jR26S1P3",
        "outputId": "01c0c6b2-2384-46f9-d2d1-950f68feaa0a"
      },
      "outputs": [
        {
          "data": {
            "text/plain": [
              "{'Sunday': 30.5,\n",
              " 'Monday': 32.6,\n",
              " 'Tuesday': 31.8,\n",
              " 'Wednesday': 33.4,\n",
              " 'Thursday': 29.8,\n",
              " 'Friday': 30.2,\n",
              " 'Saturday': 29.9}"
            ]
          },
          "execution_count": 177,
          "metadata": {},
          "output_type": "execute_result"
        }
      ],
      "source": [
        "# using zip\n",
        "days = [\"Sunday\", \"Monday\",\"Tuesday\",\"Wednesday\",\"Thursday\",\"Friday\",\"Saturday\"]\n",
        "temp_C = [30.5,32.6,31.8,33.4,29.8,30.2,29.9]\n",
        "\n",
        "{i:j for (i,j) in zip(days,temp_C)}"
      ]
    },
    {
      "cell_type": "code",
      "execution_count": null,
      "metadata": {
        "colab": {
          "base_uri": "https://localhost:8080/"
        },
        "id": "5hmmxub7TucD",
        "outputId": "3664bf2b-da08-40a6-e564-8843433e4256"
      },
      "outputs": [
        {
          "data": {
            "text/plain": [
              "{'phone': 10, 'charger': 32}"
            ]
          },
          "execution_count": 178,
          "metadata": {},
          "output_type": "execute_result"
        }
      ],
      "source": [
        "# using if condition\n",
        "products = {'phone':10,'laptop':0,'charger':32,'tablet':0}\n",
        "\n",
        "{key:value for (key,value) in products.items() if value>0}"
      ]
    },
    {
      "cell_type": "code",
      "execution_count": null,
      "metadata": {
        "colab": {
          "base_uri": "https://localhost:8080/"
        },
        "id": "8c8zvF_sUHdh",
        "outputId": "d656f1b3-ef00-4d2f-d4ad-c3ded602fc32"
      },
      "outputs": [
        {
          "data": {
            "text/plain": [
              "{2: {1: 2, 2: 4, 3: 6, 4: 8, 5: 10, 6: 12, 7: 14, 8: 16, 9: 18, 10: 20},\n",
              " 3: {1: 3, 2: 6, 3: 9, 4: 12, 5: 15, 6: 18, 7: 21, 8: 24, 9: 27, 10: 30},\n",
              " 4: {1: 4, 2: 8, 3: 12, 4: 16, 5: 20, 6: 24, 7: 28, 8: 32, 9: 36, 10: 40}}"
            ]
          },
          "execution_count": 179,
          "metadata": {},
          "output_type": "execute_result"
        }
      ],
      "source": [
        "# Nested Comprehension\n",
        "# print tables of number from 2 to 4\n",
        "{i:{j:i*j for j in range(1,11)} for i in range(2,5)}"
      ]
    },
    {
      "cell_type": "code",
      "execution_count": null,
      "metadata": {
        "id": "Ayx0R1F3UhLW"
      },
      "outputs": [],
      "source": [
        "{\n",
        "    2:{1:2,2:4,3:6,4:8},\n",
        "    3:{1:3,2:6,3:9,4:12},\n",
        "    4:{1:4,2:8,3:12,4:16}\n",
        "}"
      ]
    }
  ],
  "metadata": {
    "colab": {
      "provenance": []
    },
    "kernelspec": {
      "display_name": "Python 3",
      "name": "python3"
    },
    "language_info": {
      "name": "python"
    }
  },
  "nbformat": 4,
  "nbformat_minor": 0
}
